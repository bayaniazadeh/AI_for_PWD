{
 "cells": [
  {
   "cell_type": "code",
   "execution_count": 3,
   "metadata": {},
   "outputs": [],
   "source": [
    "import numpy as np\n",
    "import pandas as pd\n",
    "import ollama\n",
    "import pandas as pd\n",
    "from json import loads, dumps\n",
    "import tqdm\n"
   ]
  },
  {
   "cell_type": "code",
   "execution_count": 7,
   "metadata": {},
   "outputs": [],
   "source": [
    "# Step0: Extract the title and abstract of file:\n",
    "from Prompts.extract_country_V1 import extract_Country_v1\n"
   ]
  },
  {
   "cell_type": "code",
   "execution_count": 8,
   "metadata": {},
   "outputs": [],
   "source": [
    "# Read Titles and  Abstracts \n",
    "df_TA = pd.read_excel(\"Data/All_Papers.xlsx\")\n",
    "df_TA['Combined'] = df_TA['Title'] + \" \" + df_TA['Abstract']\n",
    "df_TA['Combined'] = df_TA['Combined'].astype(str)\n",
    "\n",
    "import re\n",
    "def clean_text(text):\n",
    "    return re.sub(r'\\s+', ' ', text.replace('\\n', ' '))\n",
    "\n",
    "# Apply the function to all rows in the 'text' column\n",
    "df_TA['Combined'] = df_TA['Combined'].apply(clean_text)\n"
   ]
  },
  {
   "cell_type": "code",
   "execution_count": 10,
   "metadata": {},
   "outputs": [
    {
     "name": "stderr",
     "output_type": "stream",
     "text": [
      "100%|██████████| 3244/3244 [33:13<00:00,  1.63it/s]\n"
     ]
    }
   ],
   "source": [
    "from tqdm import tqdm\n",
    "tqdm.pandas()  # Enables progress_apply for Pandas\n",
    "\n",
    "df_TA['result'] = df_TA['Combined'].progress_apply(extract_Country_v1)\n",
    "df_TA.to_excel(\"Data/counrties_results.xlsx\") ## Final results\n"
   ]
  },
  {
   "cell_type": "code",
   "execution_count": 12,
   "metadata": {},
   "outputs": [],
   "source": [
    "# Extract full texts\n",
    "import os\n",
    "import PyPDF2\n",
    "import pandas as pd\n",
    "\n",
    "# Directory containing the PDF files\n",
    "directory = 'Data'  \n",
    "\n",
    "# Initialize an empty list to store file names and texts\n",
    "data = []\n",
    "\n",
    "# Loop through all files in the directory\n",
    "for filename in os.listdir(directory):\n",
    "    if filename.endswith('.pdf'):  # Process only PDF files\n",
    "        filepath = os.path.join(directory, filename)\n",
    "        \n",
    "        # Extract text from the PDF\n",
    "        with open(filepath, 'rb') as file:\n",
    "            reader = PyPDF2.PdfReader(file)\n",
    "            text = ''\n",
    "            for page in reader.pages:\n",
    "                text += page.extract_text()\n",
    "        \n",
    "        # Append the file name and text to the list\n",
    "        data.append({'filename': filename, 'text': text})\n",
    "\n",
    "# Create a DataFrame from the list\n",
    "df = pd.DataFrame(data, columns=['filename', 'text'])\n"
   ]
  },
  {
   "cell_type": "code",
   "execution_count": 14,
   "metadata": {},
   "outputs": [
    {
     "name": "stdout",
     "output_type": "stream",
     "text": [
      "**Include**\n",
      "\n",
      "I recommend including this study in the scoping review because it:\n",
      "\n",
      "1. Focuses on Artificial Intelligence (AI) or Machine Learning (ML) applications, specifically deep learning models.\n",
      "2. Addresses patients with disabilities, which aligns with the inclusion criteria.\n",
      "3. Presents a new AI/ML model (DeepSeeNet) for diabetic retinopathy detection from fundus photographs.\n",
      "\n",
      "The study meets most of the inclusion criteria and does not fall under any exclusion categories mentioned.\n"
     ]
    }
   ],
   "source": [
    "# Extract the title and abstract from PDF file\n",
    "combined_txt = df['text'].apply(extract_Title_abs_v2)\n",
    "# Get the Title Abstract screening result for PDF files\n",
    "print(Screening_v4(str(combined_txt)))"
   ]
  },
  {
   "cell_type": "code",
   "execution_count": 13,
   "metadata": {},
   "outputs": [
    {
     "name": "stdout",
     "output_type": "stream",
     "text": [
      "0    **Exclude** \\n\\nReason: The paper focuses on developing and validating deep learning algorithms for detecting various eye diseases (e.g., diabetic retinopathy, age-related macular degeneration) rather than targeting disability outcomes or using AI/ML to predict outcomes for patients with disabilities.\n",
      "Name: text, dtype: object\n"
     ]
    }
   ],
   "source": [
    "# Increase the display width to show the full text\n",
    "pd.set_option('display.max_colwidth', None)\n",
    "\n",
    "# Print the column with full text\n",
    "print(df['text'].apply(Screening_v3))\n"
   ]
  },
  {
   "cell_type": "code",
   "execution_count": null,
   "metadata": {},
   "outputs": [],
   "source": []
  }
 ],
 "metadata": {
  "kernelspec": {
   "display_name": "Python 3.13.0 ('env_streamlit': venv)",
   "language": "python",
   "name": "python3"
  },
  "language_info": {
   "codemirror_mode": {
    "name": "ipython",
    "version": 3
   },
   "file_extension": ".py",
   "mimetype": "text/x-python",
   "name": "python",
   "nbconvert_exporter": "python",
   "pygments_lexer": "ipython3",
   "version": "3.13.0"
  },
  "orig_nbformat": 4,
  "vscode": {
   "interpreter": {
    "hash": "d961f74fba692128b8c18a97e546f33fd0fe0cfbaec9d2dac61bb7ac8362bab8"
   }
  }
 },
 "nbformat": 4,
 "nbformat_minor": 2
}
