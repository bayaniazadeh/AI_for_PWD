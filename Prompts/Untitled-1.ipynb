{
 "cells": [
  {
   "cell_type": "code",
   "execution_count": 1,
   "metadata": {},
   "outputs": [],
   "source": [
    "import pandas as pd\n",
    "\n",
    "# Load the CSV\n",
    "file_path = '/Users/azadehbayani/Documents/Azadé/LabTNS/Projects/CharlsonCodes/ModifiedVersion/Data/ElixhauserMapping.csv'\n",
    "df = pd.read_csv(file_path, delimiter=',', skip_blank_lines=False)\n"
   ]
  },
  {
   "cell_type": "code",
   "execution_count": 2,
   "metadata": {},
   "outputs": [
    {
     "data": {
      "text/html": [
       "<div>\n",
       "<style scoped>\n",
       "    .dataframe tbody tr th:only-of-type {\n",
       "        vertical-align: middle;\n",
       "    }\n",
       "\n",
       "    .dataframe tbody tr th {\n",
       "        vertical-align: top;\n",
       "    }\n",
       "\n",
       "    .dataframe thead th {\n",
       "        text-align: right;\n",
       "    }\n",
       "</style>\n",
       "<table border=\"1\" class=\"dataframe\">\n",
       "  <thead>\n",
       "    <tr style=\"text-align: right;\">\n",
       "      <th></th>\n",
       "      <th>ElixhauserComorbidity</th>\n",
       "      <th>ICD-10-CM Code</th>\n",
       "      <th>ICD-10-CA Code</th>\n",
       "      <th>ICD-10-CA Label</th>\n",
       "      <th>Unnamed: 4</th>\n",
       "    </tr>\n",
       "  </thead>\n",
       "  <tbody>\n",
       "    <tr>\n",
       "      <th>0</th>\n",
       "      <td>Chf (congestive heart failure)</td>\n",
       "      <td>I099</td>\n",
       "      <td>I099</td>\n",
       "      <td>Rheumatic heart disease</td>\n",
       "      <td>NaN</td>\n",
       "    </tr>\n",
       "    <tr>\n",
       "      <th>1</th>\n",
       "      <td>Chf (congestive heart failure)</td>\n",
       "      <td>I110</td>\n",
       "      <td>I110</td>\n",
       "      <td>Hypertensive heart disease with (congestive) h...</td>\n",
       "      <td>NaN</td>\n",
       "    </tr>\n",
       "    <tr>\n",
       "      <th>2</th>\n",
       "      <td>Chf (congestive heart failure)</td>\n",
       "      <td>I130</td>\n",
       "      <td>I130</td>\n",
       "      <td>Hypertensive heart and renal disease with (con...</td>\n",
       "      <td>NaN</td>\n",
       "    </tr>\n",
       "    <tr>\n",
       "      <th>3</th>\n",
       "      <td>Chf (congestive heart failure)</td>\n",
       "      <td>I132</td>\n",
       "      <td>I132</td>\n",
       "      <td>Hypertensive heart and renal disease with both...</td>\n",
       "      <td>NaN</td>\n",
       "    </tr>\n",
       "    <tr>\n",
       "      <th>4</th>\n",
       "      <td>Chf (congestive heart failure)</td>\n",
       "      <td>I255</td>\n",
       "      <td>I255</td>\n",
       "      <td>Ischaemic cardiomyopathy</td>\n",
       "      <td>NaN</td>\n",
       "    </tr>\n",
       "    <tr>\n",
       "      <th>...</th>\n",
       "      <td>...</td>\n",
       "      <td>...</td>\n",
       "      <td>...</td>\n",
       "      <td>...</td>\n",
       "      <td>...</td>\n",
       "    </tr>\n",
       "    <tr>\n",
       "      <th>506</th>\n",
       "      <td>Depre (depression)</td>\n",
       "      <td>F33</td>\n",
       "      <td>F334</td>\n",
       "      <td>Recurrent depressive disorder</td>\n",
       "      <td>currently in remission</td>\n",
       "    </tr>\n",
       "    <tr>\n",
       "      <th>507</th>\n",
       "      <td>Depre (depression)</td>\n",
       "      <td>F341</td>\n",
       "      <td>F341</td>\n",
       "      <td>Dysthymia</td>\n",
       "      <td>NaN</td>\n",
       "    </tr>\n",
       "    <tr>\n",
       "      <th>508</th>\n",
       "      <td>Depre (depression)</td>\n",
       "      <td>F412</td>\n",
       "      <td>F412</td>\n",
       "      <td>Mixed anxiety and depressive disorder</td>\n",
       "      <td>NaN</td>\n",
       "    </tr>\n",
       "    <tr>\n",
       "      <th>509</th>\n",
       "      <td>Depre (depression)</td>\n",
       "      <td>F432</td>\n",
       "      <td>F432</td>\n",
       "      <td>Adjustment disorders</td>\n",
       "      <td>NaN</td>\n",
       "    </tr>\n",
       "    <tr>\n",
       "      <th>510</th>\n",
       "      <td>,,,</td>\n",
       "      <td>NaN</td>\n",
       "      <td>NaN</td>\n",
       "      <td>NaN</td>\n",
       "      <td>NaN</td>\n",
       "    </tr>\n",
       "  </tbody>\n",
       "</table>\n",
       "<p>511 rows × 5 columns</p>\n",
       "</div>"
      ],
      "text/plain": [
       "              ElixhauserComorbidity ICD-10-CM Code ICD-10-CA Code  \\\n",
       "0    Chf (congestive heart failure)           I099           I099   \n",
       "1    Chf (congestive heart failure)           I110           I110   \n",
       "2    Chf (congestive heart failure)           I130           I130   \n",
       "3    Chf (congestive heart failure)           I132           I132   \n",
       "4    Chf (congestive heart failure)           I255           I255   \n",
       "..                              ...            ...            ...   \n",
       "506              Depre (depression)            F33           F334   \n",
       "507              Depre (depression)           F341           F341   \n",
       "508              Depre (depression)           F412           F412   \n",
       "509              Depre (depression)           F432           F432   \n",
       "510                             ,,,            NaN            NaN   \n",
       "\n",
       "                                       ICD-10-CA Label  \\\n",
       "0                              Rheumatic heart disease   \n",
       "1    Hypertensive heart disease with (congestive) h...   \n",
       "2    Hypertensive heart and renal disease with (con...   \n",
       "3    Hypertensive heart and renal disease with both...   \n",
       "4                             Ischaemic cardiomyopathy   \n",
       "..                                                 ...   \n",
       "506                      Recurrent depressive disorder   \n",
       "507                                          Dysthymia   \n",
       "508              Mixed anxiety and depressive disorder   \n",
       "509                               Adjustment disorders   \n",
       "510                                                NaN   \n",
       "\n",
       "                  Unnamed: 4  \n",
       "0                        NaN  \n",
       "1                        NaN  \n",
       "2                        NaN  \n",
       "3                        NaN  \n",
       "4                        NaN  \n",
       "..                       ...  \n",
       "506   currently in remission  \n",
       "507                      NaN  \n",
       "508                      NaN  \n",
       "509                      NaN  \n",
       "510                      NaN  \n",
       "\n",
       "[511 rows x 5 columns]"
      ]
     },
     "execution_count": 2,
     "metadata": {},
     "output_type": "execute_result"
    }
   ],
   "source": [
    "df"
   ]
  },
  {
   "cell_type": "code",
   "execution_count": 7,
   "metadata": {},
   "outputs": [],
   "source": [
    "\n",
    "# Expand rows with multiline cells\n",
    "df_expanded = df.assign(**{\n",
    "    col: df[col].str.split('\\n') if df[col].dtype == 'object' else df[col]\n",
    "    for col in df.columns\n",
    "}).explode(df.columns[0])  # Explode the first column by default\n",
    "\n",
    "# Split rows with mixed comma-separated values in a single cell\n",
    "df_cleaned = df_expanded.assign(\n",
    "    split_data=df_expanded.iloc[:, 0].str.split(',')\n",
    ").explode('split_data')\n",
    "\n",
    "processed_rows = []\n",
    "for index, row in df_cleaned.iterrows():\n",
    "    # Ensure that 'split_data' is a string before attempting to split\n",
    "    if isinstance(row['split_data'], str):\n",
    "        values = row['split_data'].split(',')\n",
    "        if len(values) >= 4:\n",
    "            processed_rows.append({\n",
    "                'Elixhauser Comorbidity': values[0].strip(),\n",
    "                'ICD-10-CM Code': values[1].strip(),\n",
    "                'ICD-10-CA Code': values[2].strip(),\n",
    "                'ICD-10-CA Label': ','.join(values[3:]).strip()  # Handle labels with commas\n",
    "            })\n",
    "    else:\n",
    "        # Handle the case where 'split_data' is not a string (e.g., NaN or other float values)\n",
    "        processed_rows.append({\n",
    "            'Elixhauser Comorbidity': None,\n",
    "            'ICD-10-CM Code': None,\n",
    "            'ICD-10-CA Code': None,\n",
    "            'ICD-10-CA Label': None\n",
    "        })\n",
    "\n",
    "# Create the new DataFrame with processed data\n",
    "processed_df = pd.DataFrame(processed_rows)\n",
    "\n"
   ]
  },
  {
   "cell_type": "code",
   "execution_count": 13,
   "metadata": {},
   "outputs": [
    {
     "data": {
      "text/plain": [
       "['Hypc (hypertension,I11,I11,Hypertensive heart disease\\r',\n",
       " 'Hypc (hypertension']"
      ]
     },
     "execution_count": 13,
     "metadata": {},
     "output_type": "execute_result"
    }
   ],
   "source": [
    "data = df['ElixhauserComorbidity'].iloc[172]\n",
    "data\n",
    "# Step 1: Split the data into rows based on line breaks\n",
    "rows = data.strip().split(\"\\n\")\n",
    "rows"
   ]
  },
  {
   "cell_type": "code",
   "execution_count": 14,
   "metadata": {},
   "outputs": [
    {
     "data": {
      "text/plain": [
       "[['Hypc (hypertension', 'I11', 'I11', 'Hypertensive heart disease\\r'],\n",
       " ['Hypc (hypertension', None, None, None]]"
      ]
     },
     "execution_count": 14,
     "metadata": {},
     "output_type": "execute_result"
    }
   ],
   "source": [
    "\n",
    "# Step 2: Split each row into fields based on commas\n",
    "data_list = [row.split(\",\") for row in rows]\n",
    "\n",
    "# Step 3: Handle varying lengths in rows\n",
    "# If some rows have extra commas, truncate or fill with None\n",
    "max_columns = max(len(row) for row in data_list)\n",
    "data_list = [row + [None] * (max_columns - len(row)) for row in data_list]\n",
    "\n",
    "data_list"
   ]
  },
  {
   "cell_type": "code",
   "execution_count": null,
   "metadata": {},
   "outputs": [],
   "source": []
  }
 ],
 "metadata": {
  "kernelspec": {
   "display_name": "Python 3.10.9 ('tensorflow')",
   "language": "python",
   "name": "python3"
  },
  "language_info": {
   "codemirror_mode": {
    "name": "ipython",
    "version": 3
   },
   "file_extension": ".py",
   "mimetype": "text/x-python",
   "name": "python",
   "nbconvert_exporter": "python",
   "pygments_lexer": "ipython3",
   "version": "3.10.9"
  },
  "orig_nbformat": 4,
  "vscode": {
   "interpreter": {
    "hash": "8d08fce79d0303143295f3e2158b8e2e6f6558c4d18bf3d32c727f38ce9ae4ad"
   }
  }
 },
 "nbformat": 4,
 "nbformat_minor": 2
}
